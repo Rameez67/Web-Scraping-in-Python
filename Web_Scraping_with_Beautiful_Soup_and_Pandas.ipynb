{
  "nbformat": 4,
  "nbformat_minor": 0,
  "metadata": {
    "colab": {
      "provenance": []
    },
    "kernelspec": {
      "name": "python3",
      "display_name": "Python 3"
    },
    "language_info": {
      "name": "python"
    }
  },
  "cells": [
    {
      "cell_type": "markdown",
      "source": [
        "#**Web Scraping with Beautiful Soup and Pandas**#"
      ],
      "metadata": {
        "id": "yxY4A7xobt1A"
      }
    },
    {
      "cell_type": "code",
      "execution_count": 5,
      "metadata": {
        "id": "3hfTGKzH20xi",
        "colab": {
          "base_uri": "https://localhost:8080/"
        },
        "outputId": "5173cf01-f0d4-453f-a082-261a6c17dbd1"
      },
      "outputs": [
        {
          "output_type": "stream",
          "name": "stdout",
          "text": [
            "[<a class=\"title\" href=\"/test-sites/e-commerce/allinone/product/10\" title=\"Lenovo IdeaTab\">Lenovo IdeaTab</a>, <a class=\"title\" href=\"/test-sites/e-commerce/allinone/product/15\" title=\"IdeaTab A3500L\">IdeaTab A3500L</a>, <a class=\"title\" href=\"/test-sites/e-commerce/allinone/product/11\" title=\"Acer Iconia\">Acer Iconia</a>, <a class=\"title\" href=\"/test-sites/e-commerce/allinone/product/18\" title=\"Galaxy Tab 3\">Galaxy Tab 3</a>, <a class=\"title\" href=\"/test-sites/e-commerce/allinone/product/27\" title=\"Iconia B1-730HD\">Iconia B1-730H...</a>, <a class=\"title\" href=\"/test-sites/e-commerce/allinone/product/23\" title=\"Memo Pad HD 7\">Memo Pad HD 7</a>, <a class=\"title\" href=\"/test-sites/e-commerce/allinone/product/12\" title=\"Asus MeMO Pad\">Asus MeMO Pad</a>, <a class=\"title\" href=\"/test-sites/e-commerce/allinone/product/13\" title=\"Amazon Kindle\">Amazon Kindle</a>, <a class=\"title\" href=\"/test-sites/e-commerce/allinone/product/22\" title=\"Galaxy Tab 3\">Galaxy Tab 3</a>, <a class=\"title\" href=\"/test-sites/e-commerce/allinone/product/28\" title=\"IdeaTab A8-50\">IdeaTab A8-50</a>, <a class=\"title\" href=\"/test-sites/e-commerce/allinone/product/20\" title=\"MeMO Pad 7\">MeMO Pad 7</a>, <a class=\"title\" href=\"/test-sites/e-commerce/allinone/product/17\" title=\"IdeaTab A3500-H\">IdeaTab A3500-...</a>, <a class=\"title\" href=\"/test-sites/e-commerce/allinone/product/26\" title=\"IdeaTab S5000\">IdeaTab S5000</a>, <a class=\"title\" href=\"/test-sites/e-commerce/allinone/product/21\" title=\"Galaxy Tab 4\">Galaxy Tab 4</a>, <a class=\"title\" href=\"/test-sites/e-commerce/allinone/product/16\" title=\"Galaxy Tab\">Galaxy Tab</a>, <a class=\"title\" href=\"/test-sites/e-commerce/allinone/product/25\" title=\"MeMo PAD FHD 10\">MeMo PAD FHD 1...</a>, <a class=\"title\" href=\"/test-sites/e-commerce/allinone/product/29\" title=\"Galaxy Note\">Galaxy Note</a>, <a class=\"title\" href=\"/test-sites/e-commerce/allinone/product/19\" title=\"Galaxy Note\">Galaxy Note</a>, <a class=\"title\" href=\"/test-sites/e-commerce/allinone/product/14\" title=\"iPad Mini Retina\">iPad Mini Reti...</a>, <a class=\"title\" href=\"/test-sites/e-commerce/allinone/product/24\" title=\"Galaxy Note 10.1\">Galaxy Note 10...</a>, <a class=\"title\" href=\"/test-sites/e-commerce/allinone/product/30\" title=\"Apple iPad Air\">Apple iPad Air</a>]\n"
          ]
        }
      ],
      "source": [
        "import requests\n",
        "import pandas as pd\n",
        "from bs4 import BeautifulSoup\n",
        "\n",
        "url = \"https://webscraper.io/test-sites/e-commerce/allinone/computers/tablets\"\n",
        "r = requests.get(url)\n",
        "soup = BeautifulSoup(r.text,\"lxml\")\n",
        "names = soup.find_all(\"a\",class_=\"title\")\n",
        "print(names)"
      ]
    },
    {
      "cell_type": "code",
      "source": [
        "import requests\n",
        "import pandas as pd\n",
        "from bs4 import BeautifulSoup\n",
        "\n",
        "url = \"https://webscraper.io/test-sites/e-commerce/allinone/computers/tablets\"\n",
        "r = requests.get(url)\n",
        "soup = BeautifulSoup(r.text,\"lxml\")\n",
        "names = soup.find_all(\"a\",class_=\"title\")\n",
        "product_names =[]\n",
        "for i in names:\n",
        "  name = i.text\n",
        "  product_names.append(name)\n",
        "  print(product_names)\n",
        "  prices = soup.find_all(\"h4\",class_=\"price float-end card-title pull-right\")\n",
        "  # print(prices)\n",
        "  product_prices =[]\n",
        "  for i in prices:\n",
        "    price = i.text\n",
        "    product_prices.append(price)\n",
        "    print(product_prices)\n",
        "  desc =soup.find_all(\"p\",class_=\"description card-text\")\n",
        "  product_desc =[]\n",
        "  for i in desc:\n",
        "    descs = i.text\n",
        "    product_desc.append(descs)\n",
        "    print(product_desc)\n",
        "  reviews = soup.find_all(\"p\",class_=\"review-count float-end\")\n",
        "  product_reviews =[]\n",
        "  for i in reviews:\n",
        "    review = i.text\n",
        "    product_reviews.append(review)\n",
        "    print(product_reviews)\n",
        "  df = pd.DataFrame({\"Product Name\":product_names,\"Price\":product_prices,\"Description\":product_desc,\"Reviews\":product_reviews})\n",
        "  print(df)"
      ],
      "metadata": {
        "colab": {
          "base_uri": "https://localhost:8080/",
          "height": 1000
        },
        "id": "NHxkTt1SeMsS",
        "outputId": "798a0642-4920-4874-daf9-f4aad2b40dce"
      },
      "execution_count": 12,
      "outputs": [
        {
          "output_type": "stream",
          "name": "stdout",
          "text": [
            "['Lenovo IdeaTab']\n",
            "['$69.99']\n",
            "['$69.99', '$88.99']\n",
            "['$69.99', '$88.99', '$96.99']\n",
            "['$69.99', '$88.99', '$96.99', '$97.99']\n",
            "['$69.99', '$88.99', '$96.99', '$97.99', '$99.99']\n",
            "['$69.99', '$88.99', '$96.99', '$97.99', '$99.99', '$101.99']\n",
            "['$69.99', '$88.99', '$96.99', '$97.99', '$99.99', '$101.99', '$102.99']\n",
            "['$69.99', '$88.99', '$96.99', '$97.99', '$99.99', '$101.99', '$102.99', '$103.99']\n",
            "['$69.99', '$88.99', '$96.99', '$97.99', '$99.99', '$101.99', '$102.99', '$103.99', '$107.99']\n",
            "['$69.99', '$88.99', '$96.99', '$97.99', '$99.99', '$101.99', '$102.99', '$103.99', '$107.99', '$121.99']\n",
            "['$69.99', '$88.99', '$96.99', '$97.99', '$99.99', '$101.99', '$102.99', '$103.99', '$107.99', '$121.99', '$130.99']\n",
            "['$69.99', '$88.99', '$96.99', '$97.99', '$99.99', '$101.99', '$102.99', '$103.99', '$107.99', '$121.99', '$130.99', '$148.99']\n",
            "['$69.99', '$88.99', '$96.99', '$97.99', '$99.99', '$101.99', '$102.99', '$103.99', '$107.99', '$121.99', '$130.99', '$148.99', '$172.99']\n",
            "['$69.99', '$88.99', '$96.99', '$97.99', '$99.99', '$101.99', '$102.99', '$103.99', '$107.99', '$121.99', '$130.99', '$148.99', '$172.99', '$233.99']\n",
            "['$69.99', '$88.99', '$96.99', '$97.99', '$99.99', '$101.99', '$102.99', '$103.99', '$107.99', '$121.99', '$130.99', '$148.99', '$172.99', '$233.99', '$251.99']\n",
            "['$69.99', '$88.99', '$96.99', '$97.99', '$99.99', '$101.99', '$102.99', '$103.99', '$107.99', '$121.99', '$130.99', '$148.99', '$172.99', '$233.99', '$251.99', '$320.99']\n",
            "['$69.99', '$88.99', '$96.99', '$97.99', '$99.99', '$101.99', '$102.99', '$103.99', '$107.99', '$121.99', '$130.99', '$148.99', '$172.99', '$233.99', '$251.99', '$320.99', '$399.99']\n",
            "['$69.99', '$88.99', '$96.99', '$97.99', '$99.99', '$101.99', '$102.99', '$103.99', '$107.99', '$121.99', '$130.99', '$148.99', '$172.99', '$233.99', '$251.99', '$320.99', '$399.99', '$489.99']\n",
            "['$69.99', '$88.99', '$96.99', '$97.99', '$99.99', '$101.99', '$102.99', '$103.99', '$107.99', '$121.99', '$130.99', '$148.99', '$172.99', '$233.99', '$251.99', '$320.99', '$399.99', '$489.99', '$537.99']\n",
            "['$69.99', '$88.99', '$96.99', '$97.99', '$99.99', '$101.99', '$102.99', '$103.99', '$107.99', '$121.99', '$130.99', '$148.99', '$172.99', '$233.99', '$251.99', '$320.99', '$399.99', '$489.99', '$537.99', '$587.99']\n",
            "['$69.99', '$88.99', '$96.99', '$97.99', '$99.99', '$101.99', '$102.99', '$103.99', '$107.99', '$121.99', '$130.99', '$148.99', '$172.99', '$233.99', '$251.99', '$320.99', '$399.99', '$489.99', '$537.99', '$587.99', '$603.99']\n",
            "['7\" screen, Android']\n",
            "['7\" screen, Android', 'Black, 7\" IPS, Quad-Core 1.2GHz, 8GB, Android 4.2']\n",
            "['7\" screen, Android', 'Black, 7\" IPS, Quad-Core 1.2GHz, 8GB, Android 4.2', '7\" screen, Android, 16GB']\n",
            "['7\" screen, Android', 'Black, 7\" IPS, Quad-Core 1.2GHz, 8GB, Android 4.2', '7\" screen, Android, 16GB', '7\", 8GB, Wi-Fi, Android 4.2, White']\n",
            "['7\" screen, Android', 'Black, 7\" IPS, Quad-Core 1.2GHz, 8GB, Android 4.2', '7\" screen, Android, 16GB', '7\", 8GB, Wi-Fi, Android 4.2, White', 'Black, 7\", 1.6GHz Dual-Core, 8GB, Android 4.4']\n",
            "['7\" screen, Android', 'Black, 7\" IPS, Quad-Core 1.2GHz, 8GB, Android 4.2', '7\" screen, Android, 16GB', '7\", 8GB, Wi-Fi, Android 4.2, White', 'Black, 7\", 1.6GHz Dual-Core, 8GB, Android 4.4', 'IPS, Dual-Core 1.2GHz, 8GB, Android 4.3']\n",
            "['7\" screen, Android', 'Black, 7\" IPS, Quad-Core 1.2GHz, 8GB, Android 4.2', '7\" screen, Android, 16GB', '7\", 8GB, Wi-Fi, Android 4.2, White', 'Black, 7\", 1.6GHz Dual-Core, 8GB, Android 4.4', 'IPS, Dual-Core 1.2GHz, 8GB, Android 4.3', '7\" screen, Android, 8GB']\n",
            "['7\" screen, Android', 'Black, 7\" IPS, Quad-Core 1.2GHz, 8GB, Android 4.2', '7\" screen, Android, 16GB', '7\", 8GB, Wi-Fi, Android 4.2, White', 'Black, 7\", 1.6GHz Dual-Core, 8GB, Android 4.4', 'IPS, Dual-Core 1.2GHz, 8GB, Android 4.3', '7\" screen, Android, 8GB', '6\" screen, wifi']\n",
            "['7\" screen, Android', 'Black, 7\" IPS, Quad-Core 1.2GHz, 8GB, Android 4.2', '7\" screen, Android, 16GB', '7\", 8GB, Wi-Fi, Android 4.2, White', 'Black, 7\", 1.6GHz Dual-Core, 8GB, Android 4.4', 'IPS, Dual-Core 1.2GHz, 8GB, Android 4.3', '7\" screen, Android, 8GB', '6\" screen, wifi', '7\", 8GB, Wi-Fi, Android 4.2, Yellow']\n",
            "['7\" screen, Android', 'Black, 7\" IPS, Quad-Core 1.2GHz, 8GB, Android 4.2', '7\" screen, Android, 16GB', '7\", 8GB, Wi-Fi, Android 4.2, White', 'Black, 7\", 1.6GHz Dual-Core, 8GB, Android 4.4', 'IPS, Dual-Core 1.2GHz, 8GB, Android 4.3', '7\" screen, Android, 8GB', '6\" screen, wifi', '7\", 8GB, Wi-Fi, Android 4.2, Yellow', 'Blue, 8\" IPS, Quad-Core 1.3GHz, 16GB, Android 4.2']\n",
            "['7\" screen, Android', 'Black, 7\" IPS, Quad-Core 1.2GHz, 8GB, Android 4.2', '7\" screen, Android, 16GB', '7\", 8GB, Wi-Fi, Android 4.2, White', 'Black, 7\", 1.6GHz Dual-Core, 8GB, Android 4.4', 'IPS, Dual-Core 1.2GHz, 8GB, Android 4.3', '7\" screen, Android, 8GB', '6\" screen, wifi', '7\", 8GB, Wi-Fi, Android 4.2, Yellow', 'Blue, 8\" IPS, Quad-Core 1.3GHz, 16GB, Android 4.2', 'White, 7\", Atom 1.2GHz, 8GB, Android 4.4']\n",
            "['7\" screen, Android', 'Black, 7\" IPS, Quad-Core 1.2GHz, 8GB, Android 4.2', '7\" screen, Android, 16GB', '7\", 8GB, Wi-Fi, Android 4.2, White', 'Black, 7\", 1.6GHz Dual-Core, 8GB, Android 4.4', 'IPS, Dual-Core 1.2GHz, 8GB, Android 4.3', '7\" screen, Android, 8GB', '6\" screen, wifi', '7\", 8GB, Wi-Fi, Android 4.2, Yellow', 'Blue, 8\" IPS, Quad-Core 1.3GHz, 16GB, Android 4.2', 'White, 7\", Atom 1.2GHz, 8GB, Android 4.4', 'Blue, 7\" IPS, Quad-Core 1.3GHz, 8GB, 3G, Android 4.2']\n",
            "['7\" screen, Android', 'Black, 7\" IPS, Quad-Core 1.2GHz, 8GB, Android 4.2', '7\" screen, Android, 16GB', '7\", 8GB, Wi-Fi, Android 4.2, White', 'Black, 7\", 1.6GHz Dual-Core, 8GB, Android 4.4', 'IPS, Dual-Core 1.2GHz, 8GB, Android 4.3', '7\" screen, Android, 8GB', '6\" screen, wifi', '7\", 8GB, Wi-Fi, Android 4.2, Yellow', 'Blue, 8\" IPS, Quad-Core 1.3GHz, 16GB, Android 4.2', 'White, 7\", Atom 1.2GHz, 8GB, Android 4.4', 'Blue, 7\" IPS, Quad-Core 1.3GHz, 8GB, 3G, Android 4.2', 'Silver, 7\" IPS, Quad-Core 1.2Ghz, 16GB, 3G, Android 4.2']\n",
            "['7\" screen, Android', 'Black, 7\" IPS, Quad-Core 1.2GHz, 8GB, Android 4.2', '7\" screen, Android, 16GB', '7\", 8GB, Wi-Fi, Android 4.2, White', 'Black, 7\", 1.6GHz Dual-Core, 8GB, Android 4.4', 'IPS, Dual-Core 1.2GHz, 8GB, Android 4.3', '7\" screen, Android, 8GB', '6\" screen, wifi', '7\", 8GB, Wi-Fi, Android 4.2, Yellow', 'Blue, 8\" IPS, Quad-Core 1.3GHz, 16GB, Android 4.2', 'White, 7\", Atom 1.2GHz, 8GB, Android 4.4', 'Blue, 7\" IPS, Quad-Core 1.3GHz, 8GB, 3G, Android 4.2', 'Silver, 7\" IPS, Quad-Core 1.2Ghz, 16GB, 3G, Android 4.2', 'LTE (SM-T235), Quad-Core 1.2GHz, 8GB, Black']\n",
            "['7\" screen, Android', 'Black, 7\" IPS, Quad-Core 1.2GHz, 8GB, Android 4.2', '7\" screen, Android, 16GB', '7\", 8GB, Wi-Fi, Android 4.2, White', 'Black, 7\", 1.6GHz Dual-Core, 8GB, Android 4.4', 'IPS, Dual-Core 1.2GHz, 8GB, Android 4.3', '7\" screen, Android, 8GB', '6\" screen, wifi', '7\", 8GB, Wi-Fi, Android 4.2, Yellow', 'Blue, 8\" IPS, Quad-Core 1.3GHz, 16GB, Android 4.2', 'White, 7\", Atom 1.2GHz, 8GB, Android 4.4', 'Blue, 7\" IPS, Quad-Core 1.3GHz, 8GB, 3G, Android 4.2', 'Silver, 7\" IPS, Quad-Core 1.2Ghz, 16GB, 3G, Android 4.2', 'LTE (SM-T235), Quad-Core 1.2GHz, 8GB, Black', '16GB, White']\n",
            "['7\" screen, Android', 'Black, 7\" IPS, Quad-Core 1.2GHz, 8GB, Android 4.2', '7\" screen, Android, 16GB', '7\", 8GB, Wi-Fi, Android 4.2, White', 'Black, 7\", 1.6GHz Dual-Core, 8GB, Android 4.4', 'IPS, Dual-Core 1.2GHz, 8GB, Android 4.3', '7\" screen, Android, 8GB', '6\" screen, wifi', '7\", 8GB, Wi-Fi, Android 4.2, Yellow', 'Blue, 8\" IPS, Quad-Core 1.3GHz, 16GB, Android 4.2', 'White, 7\", Atom 1.2GHz, 8GB, Android 4.4', 'Blue, 7\" IPS, Quad-Core 1.3GHz, 8GB, 3G, Android 4.2', 'Silver, 7\" IPS, Quad-Core 1.2Ghz, 16GB, 3G, Android 4.2', 'LTE (SM-T235), Quad-Core 1.2GHz, 8GB, Black', '16GB, White', 'White, 10.1\" IPS, 1.6GHz, 2GB, 16GB, Android 4.2']\n",
            "['7\" screen, Android', 'Black, 7\" IPS, Quad-Core 1.2GHz, 8GB, Android 4.2', '7\" screen, Android, 16GB', '7\", 8GB, Wi-Fi, Android 4.2, White', 'Black, 7\", 1.6GHz Dual-Core, 8GB, Android 4.4', 'IPS, Dual-Core 1.2GHz, 8GB, Android 4.3', '7\" screen, Android, 8GB', '6\" screen, wifi', '7\", 8GB, Wi-Fi, Android 4.2, Yellow', 'Blue, 8\" IPS, Quad-Core 1.3GHz, 16GB, Android 4.2', 'White, 7\", Atom 1.2GHz, 8GB, Android 4.4', 'Blue, 7\" IPS, Quad-Core 1.3GHz, 8GB, 3G, Android 4.2', 'Silver, 7\" IPS, Quad-Core 1.2Ghz, 16GB, 3G, Android 4.2', 'LTE (SM-T235), Quad-Core 1.2GHz, 8GB, Black', '16GB, White', 'White, 10.1\" IPS, 1.6GHz, 2GB, 16GB, Android 4.2', '10.1\", 3G, Android 4.0, Garnet Red']\n",
            "['7\" screen, Android', 'Black, 7\" IPS, Quad-Core 1.2GHz, 8GB, Android 4.2', '7\" screen, Android, 16GB', '7\", 8GB, Wi-Fi, Android 4.2, White', 'Black, 7\", 1.6GHz Dual-Core, 8GB, Android 4.4', 'IPS, Dual-Core 1.2GHz, 8GB, Android 4.3', '7\" screen, Android, 8GB', '6\" screen, wifi', '7\", 8GB, Wi-Fi, Android 4.2, Yellow', 'Blue, 8\" IPS, Quad-Core 1.3GHz, 16GB, Android 4.2', 'White, 7\", Atom 1.2GHz, 8GB, Android 4.4', 'Blue, 7\" IPS, Quad-Core 1.3GHz, 8GB, 3G, Android 4.2', 'Silver, 7\" IPS, Quad-Core 1.2Ghz, 16GB, 3G, Android 4.2', 'LTE (SM-T235), Quad-Core 1.2GHz, 8GB, Black', '16GB, White', 'White, 10.1\" IPS, 1.6GHz, 2GB, 16GB, Android 4.2', '10.1\", 3G, Android 4.0, Garnet Red', '12.2\", 32GB, WiFi, Android 4.4, White']\n",
            "['7\" screen, Android', 'Black, 7\" IPS, Quad-Core 1.2GHz, 8GB, Android 4.2', '7\" screen, Android, 16GB', '7\", 8GB, Wi-Fi, Android 4.2, White', 'Black, 7\", 1.6GHz Dual-Core, 8GB, Android 4.4', 'IPS, Dual-Core 1.2GHz, 8GB, Android 4.3', '7\" screen, Android, 8GB', '6\" screen, wifi', '7\", 8GB, Wi-Fi, Android 4.2, Yellow', 'Blue, 8\" IPS, Quad-Core 1.3GHz, 16GB, Android 4.2', 'White, 7\", Atom 1.2GHz, 8GB, Android 4.4', 'Blue, 7\" IPS, Quad-Core 1.3GHz, 8GB, 3G, Android 4.2', 'Silver, 7\" IPS, Quad-Core 1.2Ghz, 16GB, 3G, Android 4.2', 'LTE (SM-T235), Quad-Core 1.2GHz, 8GB, Black', '16GB, White', 'White, 10.1\" IPS, 1.6GHz, 2GB, 16GB, Android 4.2', '10.1\", 3G, Android 4.0, Garnet Red', '12.2\", 32GB, WiFi, Android 4.4, White', 'Wi-Fi + Cellular, 32GB, Silver']\n",
            "['7\" screen, Android', 'Black, 7\" IPS, Quad-Core 1.2GHz, 8GB, Android 4.2', '7\" screen, Android, 16GB', '7\", 8GB, Wi-Fi, Android 4.2, White', 'Black, 7\", 1.6GHz Dual-Core, 8GB, Android 4.4', 'IPS, Dual-Core 1.2GHz, 8GB, Android 4.3', '7\" screen, Android, 8GB', '6\" screen, wifi', '7\", 8GB, Wi-Fi, Android 4.2, Yellow', 'Blue, 8\" IPS, Quad-Core 1.3GHz, 16GB, Android 4.2', 'White, 7\", Atom 1.2GHz, 8GB, Android 4.4', 'Blue, 7\" IPS, Quad-Core 1.3GHz, 8GB, 3G, Android 4.2', 'Silver, 7\" IPS, Quad-Core 1.2Ghz, 16GB, 3G, Android 4.2', 'LTE (SM-T235), Quad-Core 1.2GHz, 8GB, Black', '16GB, White', 'White, 10.1\" IPS, 1.6GHz, 2GB, 16GB, Android 4.2', '10.1\", 3G, Android 4.0, Garnet Red', '12.2\", 32GB, WiFi, Android 4.4, White', 'Wi-Fi + Cellular, 32GB, Silver', '10.1\", 32GB, Black']\n",
            "['7\" screen, Android', 'Black, 7\" IPS, Quad-Core 1.2GHz, 8GB, Android 4.2', '7\" screen, Android, 16GB', '7\", 8GB, Wi-Fi, Android 4.2, White', 'Black, 7\", 1.6GHz Dual-Core, 8GB, Android 4.4', 'IPS, Dual-Core 1.2GHz, 8GB, Android 4.3', '7\" screen, Android, 8GB', '6\" screen, wifi', '7\", 8GB, Wi-Fi, Android 4.2, Yellow', 'Blue, 8\" IPS, Quad-Core 1.3GHz, 16GB, Android 4.2', 'White, 7\", Atom 1.2GHz, 8GB, Android 4.4', 'Blue, 7\" IPS, Quad-Core 1.3GHz, 8GB, 3G, Android 4.2', 'Silver, 7\" IPS, Quad-Core 1.2Ghz, 16GB, 3G, Android 4.2', 'LTE (SM-T235), Quad-Core 1.2GHz, 8GB, Black', '16GB, White', 'White, 10.1\" IPS, 1.6GHz, 2GB, 16GB, Android 4.2', '10.1\", 3G, Android 4.0, Garnet Red', '12.2\", 32GB, WiFi, Android 4.4, White', 'Wi-Fi + Cellular, 32GB, Silver', '10.1\", 32GB, Black', 'Wi-Fi, 64GB, Silver']\n",
            "['7 reviews']\n",
            "['7 reviews', '7 reviews']\n",
            "['7 reviews', '7 reviews', '7 reviews']\n",
            "['7 reviews', '7 reviews', '7 reviews', '2 reviews']\n",
            "['7 reviews', '7 reviews', '7 reviews', '2 reviews', '1 reviews']\n",
            "['7 reviews', '7 reviews', '7 reviews', '2 reviews', '1 reviews', '10 reviews']\n",
            "['7 reviews', '7 reviews', '7 reviews', '2 reviews', '1 reviews', '10 reviews', '14 reviews']\n",
            "['7 reviews', '7 reviews', '7 reviews', '2 reviews', '1 reviews', '10 reviews', '14 reviews', '3 reviews']\n",
            "['7 reviews', '7 reviews', '7 reviews', '2 reviews', '1 reviews', '10 reviews', '14 reviews', '3 reviews', '14 reviews']\n",
            "['7 reviews', '7 reviews', '7 reviews', '2 reviews', '1 reviews', '10 reviews', '14 reviews', '3 reviews', '14 reviews', '13 reviews']\n",
            "['7 reviews', '7 reviews', '7 reviews', '2 reviews', '1 reviews', '10 reviews', '14 reviews', '3 reviews', '14 reviews', '13 reviews', '11 reviews']\n",
            "['7 reviews', '7 reviews', '7 reviews', '2 reviews', '1 reviews', '10 reviews', '14 reviews', '3 reviews', '14 reviews', '13 reviews', '11 reviews', '9 reviews']\n",
            "['7 reviews', '7 reviews', '7 reviews', '2 reviews', '1 reviews', '10 reviews', '14 reviews', '3 reviews', '14 reviews', '13 reviews', '11 reviews', '9 reviews', '8 reviews']\n",
            "['7 reviews', '7 reviews', '7 reviews', '2 reviews', '1 reviews', '10 reviews', '14 reviews', '3 reviews', '14 reviews', '13 reviews', '11 reviews', '9 reviews', '8 reviews', '1 reviews']\n",
            "['7 reviews', '7 reviews', '7 reviews', '2 reviews', '1 reviews', '10 reviews', '14 reviews', '3 reviews', '14 reviews', '13 reviews', '11 reviews', '9 reviews', '8 reviews', '1 reviews', '14 reviews']\n",
            "['7 reviews', '7 reviews', '7 reviews', '2 reviews', '1 reviews', '10 reviews', '14 reviews', '3 reviews', '14 reviews', '13 reviews', '11 reviews', '9 reviews', '8 reviews', '1 reviews', '14 reviews', '7 reviews']\n",
            "['7 reviews', '7 reviews', '7 reviews', '2 reviews', '1 reviews', '10 reviews', '14 reviews', '3 reviews', '14 reviews', '13 reviews', '11 reviews', '9 reviews', '8 reviews', '1 reviews', '14 reviews', '7 reviews', '12 reviews']\n",
            "['7 reviews', '7 reviews', '7 reviews', '2 reviews', '1 reviews', '10 reviews', '14 reviews', '3 reviews', '14 reviews', '13 reviews', '11 reviews', '9 reviews', '8 reviews', '1 reviews', '14 reviews', '7 reviews', '12 reviews', '9 reviews']\n",
            "['7 reviews', '7 reviews', '7 reviews', '2 reviews', '1 reviews', '10 reviews', '14 reviews', '3 reviews', '14 reviews', '13 reviews', '11 reviews', '9 reviews', '8 reviews', '1 reviews', '14 reviews', '7 reviews', '12 reviews', '9 reviews', '8 reviews']\n",
            "['7 reviews', '7 reviews', '7 reviews', '2 reviews', '1 reviews', '10 reviews', '14 reviews', '3 reviews', '14 reviews', '13 reviews', '11 reviews', '9 reviews', '8 reviews', '1 reviews', '14 reviews', '7 reviews', '12 reviews', '9 reviews', '8 reviews', '6 reviews']\n",
            "['7 reviews', '7 reviews', '7 reviews', '2 reviews', '1 reviews', '10 reviews', '14 reviews', '3 reviews', '14 reviews', '13 reviews', '11 reviews', '9 reviews', '8 reviews', '1 reviews', '14 reviews', '7 reviews', '12 reviews', '9 reviews', '8 reviews', '6 reviews', '7 reviews']\n"
          ]
        },
        {
          "output_type": "error",
          "ename": "ValueError",
          "evalue": "All arrays must be of the same length",
          "traceback": [
            "\u001b[0;31m---------------------------------------------------------------------------\u001b[0m",
            "\u001b[0;31mValueError\u001b[0m                                Traceback (most recent call last)",
            "\u001b[0;32m<ipython-input-12-8e16697a3312>\u001b[0m in \u001b[0;36m<cell line: 10>\u001b[0;34m()\u001b[0m\n\u001b[1;32m     31\u001b[0m     \u001b[0mproduct_reviews\u001b[0m\u001b[0;34m.\u001b[0m\u001b[0mappend\u001b[0m\u001b[0;34m(\u001b[0m\u001b[0mreview\u001b[0m\u001b[0;34m)\u001b[0m\u001b[0;34m\u001b[0m\u001b[0;34m\u001b[0m\u001b[0m\n\u001b[1;32m     32\u001b[0m     \u001b[0mprint\u001b[0m\u001b[0;34m(\u001b[0m\u001b[0mproduct_reviews\u001b[0m\u001b[0;34m)\u001b[0m\u001b[0;34m\u001b[0m\u001b[0;34m\u001b[0m\u001b[0m\n\u001b[0;32m---> 33\u001b[0;31m   \u001b[0mdf\u001b[0m \u001b[0;34m=\u001b[0m \u001b[0mpd\u001b[0m\u001b[0;34m.\u001b[0m\u001b[0mDataFrame\u001b[0m\u001b[0;34m(\u001b[0m\u001b[0;34m{\u001b[0m\u001b[0;34m\"Product Name\"\u001b[0m\u001b[0;34m:\u001b[0m\u001b[0mproduct_names\u001b[0m\u001b[0;34m,\u001b[0m\u001b[0;34m\"Price\"\u001b[0m\u001b[0;34m:\u001b[0m\u001b[0mproduct_prices\u001b[0m\u001b[0;34m,\u001b[0m\u001b[0;34m\"Description\"\u001b[0m\u001b[0;34m:\u001b[0m\u001b[0mproduct_desc\u001b[0m\u001b[0;34m,\u001b[0m\u001b[0;34m\"Reviews\"\u001b[0m\u001b[0;34m:\u001b[0m\u001b[0mproduct_reviews\u001b[0m\u001b[0;34m}\u001b[0m\u001b[0;34m)\u001b[0m\u001b[0;34m\u001b[0m\u001b[0;34m\u001b[0m\u001b[0m\n\u001b[0m\u001b[1;32m     34\u001b[0m   \u001b[0mprint\u001b[0m\u001b[0;34m(\u001b[0m\u001b[0mdf\u001b[0m\u001b[0;34m)\u001b[0m\u001b[0;34m\u001b[0m\u001b[0;34m\u001b[0m\u001b[0m\n",
            "\u001b[0;32m/usr/local/lib/python3.10/dist-packages/pandas/core/frame.py\u001b[0m in \u001b[0;36m__init__\u001b[0;34m(self, data, index, columns, dtype, copy)\u001b[0m\n\u001b[1;32m    707\u001b[0m         \u001b[0;32melif\u001b[0m \u001b[0misinstance\u001b[0m\u001b[0;34m(\u001b[0m\u001b[0mdata\u001b[0m\u001b[0;34m,\u001b[0m \u001b[0mdict\u001b[0m\u001b[0;34m)\u001b[0m\u001b[0;34m:\u001b[0m\u001b[0;34m\u001b[0m\u001b[0;34m\u001b[0m\u001b[0m\n\u001b[1;32m    708\u001b[0m             \u001b[0;31m# GH#38939 de facto copy defaults to False only in non-dict cases\u001b[0m\u001b[0;34m\u001b[0m\u001b[0;34m\u001b[0m\u001b[0m\n\u001b[0;32m--> 709\u001b[0;31m             \u001b[0mmgr\u001b[0m \u001b[0;34m=\u001b[0m \u001b[0mdict_to_mgr\u001b[0m\u001b[0;34m(\u001b[0m\u001b[0mdata\u001b[0m\u001b[0;34m,\u001b[0m \u001b[0mindex\u001b[0m\u001b[0;34m,\u001b[0m \u001b[0mcolumns\u001b[0m\u001b[0;34m,\u001b[0m \u001b[0mdtype\u001b[0m\u001b[0;34m=\u001b[0m\u001b[0mdtype\u001b[0m\u001b[0;34m,\u001b[0m \u001b[0mcopy\u001b[0m\u001b[0;34m=\u001b[0m\u001b[0mcopy\u001b[0m\u001b[0;34m,\u001b[0m \u001b[0mtyp\u001b[0m\u001b[0;34m=\u001b[0m\u001b[0mmanager\u001b[0m\u001b[0;34m)\u001b[0m\u001b[0;34m\u001b[0m\u001b[0;34m\u001b[0m\u001b[0m\n\u001b[0m\u001b[1;32m    710\u001b[0m         \u001b[0;32melif\u001b[0m \u001b[0misinstance\u001b[0m\u001b[0;34m(\u001b[0m\u001b[0mdata\u001b[0m\u001b[0;34m,\u001b[0m \u001b[0mma\u001b[0m\u001b[0;34m.\u001b[0m\u001b[0mMaskedArray\u001b[0m\u001b[0;34m)\u001b[0m\u001b[0;34m:\u001b[0m\u001b[0;34m\u001b[0m\u001b[0;34m\u001b[0m\u001b[0m\n\u001b[1;32m    711\u001b[0m             \u001b[0;32mfrom\u001b[0m \u001b[0mnumpy\u001b[0m\u001b[0;34m.\u001b[0m\u001b[0mma\u001b[0m \u001b[0;32mimport\u001b[0m \u001b[0mmrecords\u001b[0m\u001b[0;34m\u001b[0m\u001b[0;34m\u001b[0m\u001b[0m\n",
            "\u001b[0;32m/usr/local/lib/python3.10/dist-packages/pandas/core/internals/construction.py\u001b[0m in \u001b[0;36mdict_to_mgr\u001b[0;34m(data, index, columns, dtype, typ, copy)\u001b[0m\n\u001b[1;32m    479\u001b[0m             \u001b[0marrays\u001b[0m \u001b[0;34m=\u001b[0m \u001b[0;34m[\u001b[0m\u001b[0mx\u001b[0m\u001b[0;34m.\u001b[0m\u001b[0mcopy\u001b[0m\u001b[0;34m(\u001b[0m\u001b[0;34m)\u001b[0m \u001b[0;32mif\u001b[0m \u001b[0mhasattr\u001b[0m\u001b[0;34m(\u001b[0m\u001b[0mx\u001b[0m\u001b[0;34m,\u001b[0m \u001b[0;34m\"dtype\"\u001b[0m\u001b[0;34m)\u001b[0m \u001b[0;32melse\u001b[0m \u001b[0mx\u001b[0m \u001b[0;32mfor\u001b[0m \u001b[0mx\u001b[0m \u001b[0;32min\u001b[0m \u001b[0marrays\u001b[0m\u001b[0;34m]\u001b[0m\u001b[0;34m\u001b[0m\u001b[0;34m\u001b[0m\u001b[0m\n\u001b[1;32m    480\u001b[0m \u001b[0;34m\u001b[0m\u001b[0m\n\u001b[0;32m--> 481\u001b[0;31m     \u001b[0;32mreturn\u001b[0m \u001b[0marrays_to_mgr\u001b[0m\u001b[0;34m(\u001b[0m\u001b[0marrays\u001b[0m\u001b[0;34m,\u001b[0m \u001b[0mcolumns\u001b[0m\u001b[0;34m,\u001b[0m \u001b[0mindex\u001b[0m\u001b[0;34m,\u001b[0m \u001b[0mdtype\u001b[0m\u001b[0;34m=\u001b[0m\u001b[0mdtype\u001b[0m\u001b[0;34m,\u001b[0m \u001b[0mtyp\u001b[0m\u001b[0;34m=\u001b[0m\u001b[0mtyp\u001b[0m\u001b[0;34m,\u001b[0m \u001b[0mconsolidate\u001b[0m\u001b[0;34m=\u001b[0m\u001b[0mcopy\u001b[0m\u001b[0;34m)\u001b[0m\u001b[0;34m\u001b[0m\u001b[0;34m\u001b[0m\u001b[0m\n\u001b[0m\u001b[1;32m    482\u001b[0m \u001b[0;34m\u001b[0m\u001b[0m\n\u001b[1;32m    483\u001b[0m \u001b[0;34m\u001b[0m\u001b[0m\n",
            "\u001b[0;32m/usr/local/lib/python3.10/dist-packages/pandas/core/internals/construction.py\u001b[0m in \u001b[0;36marrays_to_mgr\u001b[0;34m(arrays, columns, index, dtype, verify_integrity, typ, consolidate)\u001b[0m\n\u001b[1;32m    113\u001b[0m         \u001b[0;31m# figure out the index, if necessary\u001b[0m\u001b[0;34m\u001b[0m\u001b[0;34m\u001b[0m\u001b[0m\n\u001b[1;32m    114\u001b[0m         \u001b[0;32mif\u001b[0m \u001b[0mindex\u001b[0m \u001b[0;32mis\u001b[0m \u001b[0;32mNone\u001b[0m\u001b[0;34m:\u001b[0m\u001b[0;34m\u001b[0m\u001b[0;34m\u001b[0m\u001b[0m\n\u001b[0;32m--> 115\u001b[0;31m             \u001b[0mindex\u001b[0m \u001b[0;34m=\u001b[0m \u001b[0m_extract_index\u001b[0m\u001b[0;34m(\u001b[0m\u001b[0marrays\u001b[0m\u001b[0;34m)\u001b[0m\u001b[0;34m\u001b[0m\u001b[0;34m\u001b[0m\u001b[0m\n\u001b[0m\u001b[1;32m    116\u001b[0m         \u001b[0;32melse\u001b[0m\u001b[0;34m:\u001b[0m\u001b[0;34m\u001b[0m\u001b[0;34m\u001b[0m\u001b[0m\n\u001b[1;32m    117\u001b[0m             \u001b[0mindex\u001b[0m \u001b[0;34m=\u001b[0m \u001b[0mensure_index\u001b[0m\u001b[0;34m(\u001b[0m\u001b[0mindex\u001b[0m\u001b[0;34m)\u001b[0m\u001b[0;34m\u001b[0m\u001b[0;34m\u001b[0m\u001b[0m\n",
            "\u001b[0;32m/usr/local/lib/python3.10/dist-packages/pandas/core/internals/construction.py\u001b[0m in \u001b[0;36m_extract_index\u001b[0;34m(data)\u001b[0m\n\u001b[1;32m    653\u001b[0m         \u001b[0mlengths\u001b[0m \u001b[0;34m=\u001b[0m \u001b[0mlist\u001b[0m\u001b[0;34m(\u001b[0m\u001b[0mset\u001b[0m\u001b[0;34m(\u001b[0m\u001b[0mraw_lengths\u001b[0m\u001b[0;34m)\u001b[0m\u001b[0;34m)\u001b[0m\u001b[0;34m\u001b[0m\u001b[0;34m\u001b[0m\u001b[0m\n\u001b[1;32m    654\u001b[0m         \u001b[0;32mif\u001b[0m \u001b[0mlen\u001b[0m\u001b[0;34m(\u001b[0m\u001b[0mlengths\u001b[0m\u001b[0;34m)\u001b[0m \u001b[0;34m>\u001b[0m \u001b[0;36m1\u001b[0m\u001b[0;34m:\u001b[0m\u001b[0;34m\u001b[0m\u001b[0;34m\u001b[0m\u001b[0m\n\u001b[0;32m--> 655\u001b[0;31m             \u001b[0;32mraise\u001b[0m \u001b[0mValueError\u001b[0m\u001b[0;34m(\u001b[0m\u001b[0;34m\"All arrays must be of the same length\"\u001b[0m\u001b[0;34m)\u001b[0m\u001b[0;34m\u001b[0m\u001b[0;34m\u001b[0m\u001b[0m\n\u001b[0m\u001b[1;32m    656\u001b[0m \u001b[0;34m\u001b[0m\u001b[0m\n\u001b[1;32m    657\u001b[0m         \u001b[0;32mif\u001b[0m \u001b[0mhave_dicts\u001b[0m\u001b[0;34m:\u001b[0m\u001b[0;34m\u001b[0m\u001b[0;34m\u001b[0m\u001b[0m\n",
            "\u001b[0;31mValueError\u001b[0m: All arrays must be of the same length"
          ]
        }
      ]
    },
    {
      "cell_type": "code",
      "source": [
        "import requests\n",
        "import pandas as pd\n",
        "from bs4 import BeautifulSoup\n",
        "\n",
        "url = \"https://webscraper.io/test-sites/e-commerce/allinone/computers/tablets\"\n",
        "r = requests.get(url)\n",
        "soup = BeautifulSoup(r.text,\"lxml\")\n",
        "\n",
        "# Extract all data first, outside of any loops\n",
        "names = soup.find_all(\"a\",class_=\"title\")\n",
        "prices = soup.find_all(\"h4\",class_=\"price float-end card-title pull-right\")\n",
        "desc =soup.find_all(\"p\",class_=\"description card-text\")\n",
        "reviews = soup.find_all(\"p\",class_=\"review-count float-end\")\n",
        "\n",
        "# Initialize empty lists to store extracted data\n",
        "product_names =[]\n",
        "product_prices =[]\n",
        "product_desc =[]\n",
        "product_reviews =[]\n",
        "\n",
        "# Iterate and extract data into respective lists\n",
        "for i in names:\n",
        "  name = i.text\n",
        "  product_names.append(name)\n",
        "\n",
        "for i in prices:\n",
        "    price = i.text\n",
        "    product_prices.append(price)\n",
        "\n",
        "for i in desc:\n",
        "    descs = i.text\n",
        "    product_desc.append(descs)\n",
        "\n",
        "for i in reviews:\n",
        "    review = i.text\n",
        "    product_reviews.append(review)\n",
        "\n",
        "# Create DataFrame after all data is extracted\n",
        "df = pd.DataFrame({\"Product Name\":product_names,\"Price\":product_prices,\"Description\":product_desc,\"Reviews\":product_reviews})\n",
        "# print(df)\n",
        "df.to_csv(\"Products_details.csv\")"
      ],
      "metadata": {
        "id": "Y_6ucSm1lYCi"
      },
      "execution_count": 14,
      "outputs": []
    }
  ]
}