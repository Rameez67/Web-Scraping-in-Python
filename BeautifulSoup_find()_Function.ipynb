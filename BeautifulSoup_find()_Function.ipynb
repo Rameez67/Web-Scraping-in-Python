{
  "nbformat": 4,
  "nbformat_minor": 0,
  "metadata": {
    "colab": {
      "provenance": []
    },
    "kernelspec": {
      "name": "python3",
      "display_name": "Python 3"
    },
    "language_info": {
      "name": "python"
    }
  },
  "cells": [
    {
      "cell_type": "markdown",
      "source": [
        "#BeautifulSoup - find() Function Work?#"
      ],
      "metadata": {
        "id": "gmSZtbbsPO54"
      }
    },
    {
      "cell_type": "code",
      "source": [
        "import requests\n",
        "from bs4 import BeautifulSoup\n",
        "url = \"https://telemart.pk/earbuds.html\"\n",
        "r = requests.get(url)\n",
        "print(r)"
      ],
      "metadata": {
        "colab": {
          "base_uri": "https://localhost:8080/"
        },
        "id": "yTYUNB0ceH94",
        "outputId": "e98e700b-e525-4ac7-f898-b8688a746529"
      },
      "execution_count": 12,
      "outputs": [
        {
          "output_type": "stream",
          "name": "stdout",
          "text": [
            "<Response [200]>\n"
          ]
        }
      ]
    },
    {
      "cell_type": "code",
      "execution_count": 2,
      "metadata": {
        "colab": {
          "base_uri": "https://localhost:8080/"
        },
        "id": "uqBu6Qt2Iq-3",
        "outputId": "6179890b-bc6d-4729-b859-c5216596cf5a"
      },
      "outputs": [
        {
          "output_type": "stream",
          "name": "stdout",
          "text": [
            "<div id=\"front-app\">\n",
            "<app></app>\n",
            "</div>\n"
          ]
        }
      ],
      "source": [
        "import requests\n",
        "from bs4 import BeautifulSoup\n",
        "url = \"https://telemart.pk/earbuds.html\"\n",
        "r = requests.get(url)\n",
        "soup = BeautifulSoup(r.text, \"lxml\")\n",
        "print(soup.find('div'))\n"
      ]
    },
    {
      "cell_type": "code",
      "source": [
        "import requests\n",
        "from bs4 import BeautifulSoup\n",
        "url = \"https://audionic.co/collections/wireless-earbuds\"\n",
        "r = requests.get(url)\n",
        "soup = BeautifulSoup(r.text, \"lxml\")\n",
        "price = soup.find(\"span\",{\"class\":\"special-price\"})\n",
        "print(price.string)\n"
      ],
      "metadata": {
        "colab": {
          "base_uri": "https://localhost:8080/"
        },
        "id": "cLmxm9I5PXDX",
        "outputId": "fe71b3f6-156a-43ce-de57-d626fcf7dc30"
      },
      "execution_count": 16,
      "outputs": [
        {
          "output_type": "stream",
          "name": "stdout",
          "text": [
            "\n",
            "              Rs.3,899\n",
            "            \n"
          ]
        }
      ]
    },
    {
      "cell_type": "code",
      "source": [
        "import requests\n",
        "from bs4 import BeautifulSoup\n",
        "url = \"https://audionic.co/collections/wireless-earbuds\"\n",
        "r = requests.get(url)\n",
        "soup = BeautifulSoup(r.text, \"lxml\")\n",
        "desc = soup.find(\"div\",{\"class\":\"tooltip\"})\n",
        "print(desc.string)\n",
        "a = soup.find(\"div\",class_=\"tooltip\")\n",
        "print(a.contents)"
      ],
      "metadata": {
        "colab": {
          "base_uri": "https://localhost:8080/"
        },
        "id": "fFYxDKwagz-s",
        "outputId": "71e571bd-fcfa-44f2-8237-5c7c6208570c"
      },
      "execution_count": 23,
      "outputs": [
        {
          "output_type": "stream",
          "name": "stdout",
          "text": [
            "\n",
            "                \n",
            "    Red & Black\n",
            "    \n",
            "              \n",
            "['\\n                \\n    Red & Black\\n    \\n              ']\n"
          ]
        }
      ]
    },
    {
      "cell_type": "code",
      "source": [
        "import requests\n",
        "from bs4 import BeautifulSoup\n",
        "url = \"https://audionic.co/collections/wireless-earbuds\"\n",
        "r = requests.get(url)\n",
        "soup = BeautifulSoup(r.text, \"lxml\")\n",
        "desc = soup.find(\"div\",{\"class\":\"tooltip\"})\n",
        "print(desc.string)\n",
        "a = soup.find(\"div\",class_=\"tooltip\")\n",
        "print(a.string)"
      ],
      "metadata": {
        "colab": {
          "base_uri": "https://localhost:8080/"
        },
        "id": "jNhLEMvNjXN2",
        "outputId": "9062cc84-672f-4669-9a5d-2d4de62e2165"
      },
      "execution_count": 24,
      "outputs": [
        {
          "output_type": "stream",
          "name": "stdout",
          "text": [
            "\n",
            "                \n",
            "    Red & Black\n",
            "    \n",
            "              \n",
            "\n",
            "                \n",
            "    Red & Black\n",
            "    \n",
            "              \n"
          ]
        }
      ]
    },
    {
      "cell_type": "code",
      "source": [
        "import requests\n",
        "from bs4 import BeautifulSoup\n",
        "url = \"https://audionic.co/collections/wireless-earbuds\"\n",
        "r = requests.get(url)\n",
        "soup = BeautifulSoup(r.text, \"lxml\")\n",
        "desc = soup.find(\"div\",{\"class\":\"tooltip\"})\n",
        "print(desc.string)\n",
        "a = soup.find(\"div\",class_=\"tooltip\")\n",
        "print(a.text)"
      ],
      "metadata": {
        "id": "POXAtsuEjdhM"
      },
      "execution_count": null,
      "outputs": []
    }
  ]
}