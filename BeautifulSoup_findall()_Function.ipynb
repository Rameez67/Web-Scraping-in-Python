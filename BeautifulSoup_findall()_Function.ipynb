{
  "nbformat": 4,
  "nbformat_minor": 0,
  "metadata": {
    "colab": {
      "provenance": []
    },
    "kernelspec": {
      "name": "python3",
      "display_name": "Python 3"
    },
    "language_info": {
      "name": "python"
    }
  },
  "cells": [
    {
      "cell_type": "markdown",
      "source": [
        "#**BeautifulSoup - findall() Function**#"
      ],
      "metadata": {
        "id": "JJ1sLDyGkW8K"
      }
    },
    {
      "cell_type": "code",
      "execution_count": 1,
      "metadata": {
        "colab": {
          "base_uri": "https://localhost:8080/"
        },
        "id": "48Bc85TbkJu8",
        "outputId": "4a2acd04-5dbd-4213-f753-7effe7154f09"
      },
      "outputs": [
        {
          "output_type": "stream",
          "name": "stdout",
          "text": [
            "<Response [200]>\n"
          ]
        }
      ],
      "source": [
        "import requests\n",
        "from bs4 import BeautifulSoup\n",
        "url = \"https://audionic.co/collections/wireless-earbuds\"\n",
        "r= requests.get(url)\n",
        "print(r)"
      ]
    },
    {
      "cell_type": "code",
      "source": [
        "import requests\n",
        "from bs4 import BeautifulSoup\n",
        "url = \"https://audionic.co/collections/wireless-earbuds\"\n",
        "r= requests.get(url)\n",
        "soup = BeautifulSoup(r.text,\"lxml\")\n",
        "print(soup.find(\"div\",class_=\"product-feature\"))"
      ],
      "metadata": {
        "colab": {
          "base_uri": "https://localhost:8080/"
        },
        "id": "AmKBk5Dgk6DL",
        "outputId": "40330794-c02c-4ddf-c50c-94ffea618c6f"
      },
      "execution_count": 3,
      "outputs": [
        {
          "output_type": "stream",
          "name": "stdout",
          "text": [
            "<div class=\"product-feature\">\n",
            "<span>Quad Mic ENC</span>\n",
            "<span>Gaming Mode</span>\n",
            "<span>26 Hours Play Time</span>\n",
            "<span>IPX4 Water Resistance</span>\n",
            "</div>\n"
          ]
        }
      ]
    },
    {
      "cell_type": "code",
      "source": [
        "import requests\n",
        "from bs4 import BeautifulSoup\n",
        "url = \"https://audionic.co/collections/wireless-earbuds\"\n",
        "r= requests.get(url)\n",
        "soup = BeautifulSoup(r.text,\"lxml\")\n",
        "print(soup.find_all(\"div\",class_=\"product-feature\"))"
      ],
      "metadata": {
        "colab": {
          "base_uri": "https://localhost:8080/"
        },
        "id": "HdnHFSO8lqy4",
        "outputId": "84840f46-034c-45a9-c5c8-0e6a477edc89"
      },
      "execution_count": 4,
      "outputs": [
        {
          "output_type": "stream",
          "name": "stdout",
          "text": [
            "[<div class=\"product-feature\">\n",
            "<span>Quad Mic ENC</span>\n",
            "<span>Gaming Mode</span>\n",
            "<span>26 Hours Play Time</span>\n",
            "<span>IPX4 Water Resistance</span>\n",
            "</div>, <div class=\"product-feature\">\n",
            "<span>Quad Mic ENC</span>\n",
            "<span>Gaming Mode</span>\n",
            "<span>26 Hours Play Time</span>\n",
            "<span>IPX4 Water Resistance</span>\n",
            "</div>, <div class=\"product-feature\">\n",
            "<span> Quad Mic ENC</span>\n",
            "<span>35 Hours Playtime</span>\n",
            "<span>Gaming Mode</span>\n",
            "<span>Low Latency 45ms</span>\n",
            "</div>, <div class=\"product-feature\">\n",
            "<span> Quad Mic ENC</span>\n",
            "<span>35 Hours Playtime</span>\n",
            "<span>Gaming Mode</span>\n",
            "<span>Low Latency 45ms</span>\n",
            "</div>, <div class=\"product-feature\">\n",
            "<span>ENC Quad Mic</span>\n",
            "<span>Pure Bass</span>\n",
            "<span>Gaming Mode</span>\n",
            "<span>Low Latency 50 ms</span>\n",
            "</div>, <div class=\"product-feature\">\n",
            "<span>ENC Quad Mic</span>\n",
            "<span>Pure Bass</span>\n",
            "<span>Gaming Mode</span>\n",
            "<span>Low Latency 50 ms</span>\n",
            "</div>, <div class=\"product-feature\">\n",
            "<span>Quad Mic ENC</span>\n",
            "<span>IPx4 Water Resistance</span>\n",
            "<span>Gaming Mode Low Latency</span>\n",
            "<span>Total Play time 40 hours</span>\n",
            "</div>, <div class=\"product-feature\">\n",
            "<span>Quad Mic ENC</span>\n",
            "<span>IPx4 Water Resistance</span>\n",
            "<span>Gaming Mode Low Latency</span>\n",
            "<span>Total Play time 40 hours</span>\n",
            "</div>, <div class=\"product-feature\">\n",
            "<span>48 Hour Playtime</span>\n",
            "<span>Quad Mic ENC</span>\n",
            "<span>Pure Bass</span>\n",
            "<span>Gaming Mode</span>\n",
            "</div>, <div class=\"product-feature\">\n",
            "<span>48 Hour Playtime</span>\n",
            "<span>Quad Mic ENC</span>\n",
            "<span>Pure Bass</span>\n",
            "<span>Gaming Mode</span>\n",
            "</div>, <div class=\"product-feature\">\n",
            "<span> Quad Mic ENC</span>\n",
            "<span>40 Hours Playtime</span>\n",
            "<span>Gaming Mode</span>\n",
            "<span>Low Latency 50ms</span>\n",
            "</div>, <div class=\"product-feature\">\n",
            "<span> Quad Mic ENC</span>\n",
            "<span>40 Hours Playtime</span>\n",
            "<span>Gaming Mode</span>\n",
            "<span>Low Latency 50ms</span>\n",
            "</div>, <div class=\"product-feature\">\n",
            "<span>Quad Mic ENC</span>\n",
            "<span>LED Display</span>\n",
            "<span> Gaming Mode</span>\n",
            "<span>40 Hour Total Play Time</span>\n",
            "</div>, <div class=\"product-feature\">\n",
            "<span>Quad Mic ENC</span>\n",
            "<span>LED Display</span>\n",
            "<span> Gaming Mode</span>\n",
            "<span>40 Hour Total Play Time</span>\n",
            "</div>, <div class=\"product-feature\">\n",
            "<span>Anti-lost Cord</span>\n",
            "<span>40 hours play time</span>\n",
            "<span>IPx4 water Resistance</span>\n",
            "<span>Quick Pairing</span>\n",
            "</div>, <div class=\"product-feature\">\n",
            "<span>Anti-lost Cord</span>\n",
            "<span>40 hours play time</span>\n",
            "<span>IPx4 water Resistance</span>\n",
            "<span>Quick Pairing</span>\n",
            "</div>, <div class=\"product-feature\">\n",
            "<span>ENC Dual Mic</span>\n",
            "<span>25 hours play time</span>\n",
            "<span>Gaming Mode</span>\n",
            "<span>Quick Pairing</span>\n",
            "</div>, <div class=\"product-feature\">\n",
            "<span>ENC Dual Mic</span>\n",
            "<span>25 hours play time</span>\n",
            "<span>Gaming Mode</span>\n",
            "<span>Quick Pairing</span>\n",
            "</div>, <div class=\"product-feature\">\n",
            "<span>24h playtime</span>\n",
            "<span></span>\n",
            "<span>IPx4 water resistance</span>\n",
            "<span>Quick Pairing</span>\n",
            "</div>, <div class=\"product-feature\">\n",
            "<span>24h playtime</span>\n",
            "<span></span>\n",
            "<span>IPx4 water resistance</span>\n",
            "<span>Quick Pairing</span>\n",
            "</div>, <div class=\"product-feature\">\n",
            "<span>Wireless Charging</span>\n",
            "<span>Pop up Instant Pairing</span>\n",
            "<span>Fully Touch Controlled</span>\n",
            "<span>4 Hours Playtime</span>\n",
            "</div>, <div class=\"product-feature\">\n",
            "<span>Wireless Charging</span>\n",
            "<span>Pop up Instant Pairing</span>\n",
            "<span>Fully Touch Controlled</span>\n",
            "<span>4 Hours Playtime</span>\n",
            "</div>, <div class=\"product-feature\">\n",
            "<span>Quad Mic ENC</span>\n",
            "<span>IPX5 Water Resistance</span>\n",
            "<span>Gaming Mode</span>\n",
            "<span>30 Hour Playtime</span>\n",
            "</div>, <div class=\"product-feature\">\n",
            "<span>Quad Mic ENC</span>\n",
            "<span>IPX5 Water Resistance</span>\n",
            "<span>Gaming Mode</span>\n",
            "<span>30 Hour Playtime</span>\n",
            "</div>]\n"
          ]
        }
      ]
    },
    {
      "cell_type": "code",
      "source": [
        "import requests\n",
        "from bs4 import BeautifulSoup\n",
        "\n",
        "url = \"https://audionic.co/collections/wireless-earbuds\"\n",
        "r = requests.get(url)\n",
        "soup = BeautifulSoup(r.text, \"lxml\")\n",
        "\n",
        "# Find all elements with the class 'product-feature'\n",
        "features = soup.find_all(\"div\", class_=\"product-feature\")\n",
        "\n",
        "# Iterate over each element and print its text content\n",
        "for feature in features:\n",
        "    print(feature.get_text(strip=True))\n"
      ],
      "metadata": {
        "colab": {
          "base_uri": "https://localhost:8080/"
        },
        "id": "LdATGcYUlzIh",
        "outputId": "58d97e52-b947-4af2-bfc1-89b8714f3b9b"
      },
      "execution_count": 8,
      "outputs": [
        {
          "output_type": "stream",
          "name": "stdout",
          "text": [
            "Quad Mic ENCGaming Mode26 Hours Play TimeIPX4 Water Resistance\n",
            "Quad Mic ENCGaming Mode26 Hours Play TimeIPX4 Water Resistance\n",
            "Quad Mic ENC35 Hours PlaytimeGaming ModeLow Latency 45ms\n",
            "Quad Mic ENC35 Hours PlaytimeGaming ModeLow Latency 45ms\n",
            "ENC Quad MicPure BassGaming ModeLow Latency 50 ms\n",
            "ENC Quad MicPure BassGaming ModeLow Latency 50 ms\n",
            "Quad Mic ENCIPx4 Water ResistanceGaming Mode Low LatencyTotal Play time 40 hours\n",
            "Quad Mic ENCIPx4 Water ResistanceGaming Mode Low LatencyTotal Play time 40 hours\n",
            "48 Hour PlaytimeQuad Mic ENCPure BassGaming Mode\n",
            "48 Hour PlaytimeQuad Mic ENCPure BassGaming Mode\n",
            "Quad Mic ENC40 Hours PlaytimeGaming ModeLow Latency 50ms\n",
            "Quad Mic ENC40 Hours PlaytimeGaming ModeLow Latency 50ms\n",
            "Quad Mic ENCLED DisplayGaming Mode40 Hour Total Play Time\n",
            "Quad Mic ENCLED DisplayGaming Mode40 Hour Total Play Time\n",
            "Anti-lost Cord40 hours play timeIPx4 water ResistanceQuick Pairing\n",
            "Anti-lost Cord40 hours play timeIPx4 water ResistanceQuick Pairing\n",
            "ENC Dual Mic25 hours play timeGaming ModeQuick Pairing\n",
            "ENC Dual Mic25 hours play timeGaming ModeQuick Pairing\n",
            "24h playtimeIPx4 water resistanceQuick Pairing\n",
            "24h playtimeIPx4 water resistanceQuick Pairing\n",
            "Wireless ChargingPop up Instant PairingFully Touch Controlled4 Hours Playtime\n",
            "Wireless ChargingPop up Instant PairingFully Touch Controlled4 Hours Playtime\n",
            "Quad Mic ENCIPX5 Water ResistanceGaming Mode30 Hour Playtime\n",
            "Quad Mic ENCIPX5 Water ResistanceGaming Mode30 Hour Playtime\n"
          ]
        }
      ]
    },
    {
      "cell_type": "code",
      "source": [
        "import requests\n",
        "from bs4 import BeautifulSoup\n",
        "url = \"https://audionic.co/collections/wireless-earbuds\"\n",
        "r= requests.get(url)\n",
        "soup = BeautifulSoup(r.text,\"lxml\")\n",
        "print(soup.find_all(\"span\",class_=\"special-price\"))"
      ],
      "metadata": {
        "colab": {
          "base_uri": "https://localhost:8080/"
        },
        "id": "2rybRnKan17P",
        "outputId": "72eb8bdd-d003-4c5c-a310-1b9fddb0d0d4"
      },
      "execution_count": 9,
      "outputs": [
        {
          "output_type": "stream",
          "name": "stdout",
          "text": [
            "[<span class=\"special-price\">\n",
            "              Rs.3,899\n",
            "            </span>, <span class=\"special-price\">\n",
            "              Rs.3,899\n",
            "            </span>, <span class=\"special-price\">\n",
            "              Rs.3,999\n",
            "            </span>, <span class=\"special-price\">\n",
            "              Rs.3,999\n",
            "            </span>, <span class=\"special-price\">\n",
            "              Rs.4,199\n",
            "            </span>, <span class=\"special-price\">\n",
            "              Rs.4,199\n",
            "            </span>, <span class=\"special-price\">\n",
            "              Rs.3,899\n",
            "            </span>, <span class=\"special-price\">\n",
            "              Rs.3,899\n",
            "            </span>, <span class=\"special-price\">\n",
            "              Rs.3,499\n",
            "            </span>, <span class=\"special-price\">\n",
            "              Rs.3,499\n",
            "            </span>, <span class=\"special-price\">\n",
            "              Rs.4,199\n",
            "            </span>, <span class=\"special-price\">\n",
            "              Rs.4,199\n",
            "            </span>, <span class=\"special-price\">\n",
            "              Rs.3,499\n",
            "            </span>, <span class=\"special-price\">\n",
            "              Rs.3,499\n",
            "            </span>, <span class=\"special-price\">\n",
            "              Rs.2,799\n",
            "            </span>, <span class=\"special-price\">\n",
            "              Rs.2,799\n",
            "            </span>, <span class=\"special-price\">\n",
            "              Rs.2,999\n",
            "            </span>, <span class=\"special-price\">\n",
            "              Rs.2,999\n",
            "            </span>, <span class=\"special-price\">\n",
            "              Rs.4,199\n",
            "            </span>, <span class=\"special-price\">\n",
            "              Rs.4,199\n",
            "            </span>, <span class=\"special-price\">\n",
            "              Rs.3,799\n",
            "            </span>, <span class=\"special-price\">\n",
            "              Rs.3,799\n",
            "            </span>]\n"
          ]
        }
      ]
    },
    {
      "cell_type": "code",
      "source": [
        "import requests\n",
        "from bs4 import BeautifulSoup\n",
        "url = \"https://audionic.co/collections/wireless-earbuds\"\n",
        "r= requests.get(url)\n",
        "soup = BeautifulSoup(r.text,\"lxml\")\n",
        "price = soup.find_all(\"span\",class_=\"special-price\")\n",
        "print(len(price))\n",
        "for i in price:\n",
        "  print(i.text)\n"
      ],
      "metadata": {
        "colab": {
          "base_uri": "https://localhost:8080/"
        },
        "id": "KKfSs6bEoWi8",
        "outputId": "8adb1561-29c3-45b8-e455-bb60a81f3d4d"
      },
      "execution_count": 12,
      "outputs": [
        {
          "output_type": "stream",
          "name": "stdout",
          "text": [
            "22\n",
            "\n",
            "              Rs.3,899\n",
            "            \n",
            "\n",
            "              Rs.3,899\n",
            "            \n",
            "\n",
            "              Rs.3,999\n",
            "            \n",
            "\n",
            "              Rs.3,999\n",
            "            \n",
            "\n",
            "              Rs.4,199\n",
            "            \n",
            "\n",
            "              Rs.4,199\n",
            "            \n",
            "\n",
            "              Rs.3,899\n",
            "            \n",
            "\n",
            "              Rs.3,899\n",
            "            \n",
            "\n",
            "              Rs.3,499\n",
            "            \n",
            "\n",
            "              Rs.3,499\n",
            "            \n",
            "\n",
            "              Rs.4,199\n",
            "            \n",
            "\n",
            "              Rs.4,199\n",
            "            \n",
            "\n",
            "              Rs.3,499\n",
            "            \n",
            "\n",
            "              Rs.3,499\n",
            "            \n",
            "\n",
            "              Rs.2,799\n",
            "            \n",
            "\n",
            "              Rs.2,799\n",
            "            \n",
            "\n",
            "              Rs.2,999\n",
            "            \n",
            "\n",
            "              Rs.2,999\n",
            "            \n",
            "\n",
            "              Rs.4,199\n",
            "            \n",
            "\n",
            "              Rs.4,199\n",
            "            \n",
            "\n",
            "              Rs.3,799\n",
            "            \n",
            "\n",
            "              Rs.3,799\n",
            "            \n"
          ]
        }
      ]
    },
    {
      "cell_type": "code",
      "source": [
        "import requests\n",
        "from bs4 import BeautifulSoup\n",
        "url = \"https://audionic.co/collections/wireless-earbuds\"\n",
        "r= requests.get(url)\n",
        "soup = BeautifulSoup(r.text,\"lxml\")\n",
        "a = soup.find_all(\"span\",class_=\"special-price\")\n",
        "print(a[3].string)"
      ],
      "metadata": {
        "colab": {
          "base_uri": "https://localhost:8080/"
        },
        "id": "WCJobVrJrCz5",
        "outputId": "866370af-1ae5-4b92-ab77-98f066dafc18"
      },
      "execution_count": 15,
      "outputs": [
        {
          "output_type": "stream",
          "name": "stdout",
          "text": [
            "\n",
            "              Rs.3,999\n",
            "            \n"
          ]
        }
      ]
    }
  ]
}