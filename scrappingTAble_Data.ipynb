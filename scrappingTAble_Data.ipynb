{
  "nbformat": 4,
  "nbformat_minor": 0,
  "metadata": {
    "colab": {
      "provenance": []
    },
    "kernelspec": {
      "name": "python3",
      "display_name": "Python 3"
    },
    "language_info": {
      "name": "python"
    }
  },
  "cells": [
    {
      "cell_type": "code",
      "execution_count": 14,
      "metadata": {
        "colab": {
          "base_uri": "https://localhost:8080/"
        },
        "id": "PjTQMfTowYsV",
        "outputId": "802caf00-cbdd-418b-e730-645a3b27174d"
      },
      "outputs": [
        {
          "output_type": "stream",
          "name": "stdout",
          "text": [
            "                     Company PriceRs. Day HighRs.\n",
            "0                \\nInfosys\\n  1792.95     1844.00\n",
            "1   \\nTata Teleservice(Mah\\n   102.14      111.40\n",
            "2                    \\nTCS\\n  4302.40     4358.75\n",
            "3                \\nMphasis\\n  2873.55     2915.00\n",
            "4                   \\nMTNL\\n    69.32       70.48\n",
            "5              \\nJust Dial\\n  1252.45     1304.60\n",
            "6           \\nIndus Towers\\n   409.50      424.70\n",
            "7                  \\nWipro\\n   557.20      579.90\n",
            "8         \\nVST Industries\\n  4573.10     4849.75\n",
            "9        \\nAIA Engineering\\n  4272.70     4699.95\n",
            "10          \\nElecon Engg.\\n   641.00      716.75\n",
            "11        \\nBritannia Inds\\n  5877.95     5978.00\n",
            "12     \\nJubilant Pharmova\\n   749.55      800.00\n",
            "13    \\nKalpataru Projects\\n  1336.30     1427.85\n",
            "14  \\nGodrej Consumer Prod\\n  1451.90     1476.95\n"
          ]
        }
      ],
      "source": [
        "import requests\n",
        "import pandas as pd\n",
        "from bs4 import BeautifulSoup\n",
        "url = \"https://ticker.finology.in/\"\n",
        "r = requests.get(url)\n",
        "# print(r)\n",
        "soup = BeautifulSoup(r.text,\"lxml\")\n",
        "table = soup.find(\"table\", class_=\"table table-sm table-hover screenertable\")\n",
        "# print(table)\n",
        "headers = table.find_all(\"th\")\n",
        "# print(headers)\n",
        "titles =[]\n",
        "for i in headers:\n",
        "  title= i.text\n",
        "  titles.append(title)\n",
        "# print(titles)\n",
        "df = pd.DataFrame(columns=titles)\n",
        "# print(df)\n",
        "rows = table.find_all(\"tr\")\n",
        "for i in rows[1:]:\n",
        "  # print(i)\n",
        "  data = i.find_all(\"td\")\n",
        "  row = [tr.text for tr in data]\n",
        "  # print(row)\n",
        "  l= len(df)\n",
        "  df.loc[l]=row\n",
        "print(df)\n",
        "df.to_csv(\"stack_marketing.csv\")\n",
        "\n",
        "\n"
      ]
    }
  ]
}