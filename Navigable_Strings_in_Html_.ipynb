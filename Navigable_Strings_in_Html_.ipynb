{
  "nbformat": 4,
  "nbformat_minor": 0,
  "metadata": {
    "colab": {
      "provenance": []
    },
    "kernelspec": {
      "name": "python3",
      "display_name": "Python 3"
    },
    "language_info": {
      "name": "python"
    }
  },
  "cells": [
    {
      "cell_type": "markdown",
      "source": [
        "#Navigable Strings in Html #"
      ],
      "metadata": {
        "id": "DkZAykUf04CT"
      }
    },
    {
      "cell_type": "code",
      "execution_count": 2,
      "metadata": {
        "colab": {
          "base_uri": "https://localhost:8080/"
        },
        "id": "xTvr6opl0xJP",
        "outputId": "c8558f99-7cc6-4852-aa1c-a729809b7e55"
      },
      "outputs": [
        {
          "output_type": "stream",
          "name": "stdout",
          "text": [
            "\n",
            "1. Before proceeding to online admission form, you are advised to read the Guidelines. It will help \tyou to properly fill the form.\n",
            "\n",
            "\t\t\t\t\t\t\n"
          ]
        }
      ],
      "source": [
        "import requests\n",
        "from bs4 import BeautifulSoup\n",
        "url = \"https://ugadmissions.muet.edu.pk/\"\n",
        "r = requests.get(url)\n",
        "soup = BeautifulSoup(r.text,\"lxml\")\n",
        "tag = soup.div.p.text\n",
        "print(tag)"
      ]
    },
    {
      "cell_type": "code",
      "source": [
        "import requests\n",
        "from bs4 import BeautifulSoup\n",
        "url = \"https://ugadmissions.muet.edu.pk/\"\n",
        "r = requests.get(url)\n",
        "soup = BeautifulSoup(r.text,\"lxml\")\n",
        "tag = soup.div.p\n",
        "print(tag.string)"
      ],
      "metadata": {
        "colab": {
          "base_uri": "https://localhost:8080/"
        },
        "id": "NFJ_Mx4i36Mr",
        "outputId": "39bec015-c3ec-4f56-cb75-5b5e8c9ddc94"
      },
      "execution_count": 4,
      "outputs": [
        {
          "output_type": "stream",
          "name": "stdout",
          "text": [
            "None\n"
          ]
        }
      ]
    },
    {
      "cell_type": "code",
      "source": [
        "import requests\n",
        "from bs4 import BeautifulSoup\n",
        "url = \"https://ugadmissions.muet.edu.pk/\"\n",
        "r = requests.get(url)\n",
        "soup = BeautifulSoup(r.text,\"lxml\")\n",
        "tag = soup.div.p.a\n",
        "print(tag)"
      ],
      "metadata": {
        "colab": {
          "base_uri": "https://localhost:8080/"
        },
        "id": "i8OL0FvB5xE0",
        "outputId": "2d1ed4b6-be97-4139-9fbc-fe0c9d9b580e"
      },
      "execution_count": 6,
      "outputs": [
        {
          "output_type": "stream",
          "name": "stdout",
          "text": [
            "<a href=\"guidelines.php\">Guidelines</a>\n"
          ]
        }
      ]
    }
  ]
}